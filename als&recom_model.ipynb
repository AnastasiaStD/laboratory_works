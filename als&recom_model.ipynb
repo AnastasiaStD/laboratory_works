{
  "cells": [
    {
      "cell_type": "markdown",
      "metadata": {
        "id": "q1e0_8K6GTkG"
      },
      "source": [
        "# Практическое ДЗ-2. Использование ALS для построения рекомендательной модели"
      ]
    },
    {
      "cell_type": "markdown",
      "metadata": {
        "id": "hy0CPB5oGTkI"
      },
      "source": [
        "В этой задаче мы построим простую рекомендательную модель на основе малоранговых приближений разреженных матриц."
      ]
    },
    {
      "cell_type": "code",
      "execution_count": null,
      "metadata": {
        "id": "4rQ_Xh0zGTkI"
      },
      "outputs": [],
      "source": [
        "import numpy as np\n",
        "import scipy.sparse\n",
        "import matplotlib.pyplot as plt\n",
        "%matplotlib inline"
      ]
    },
    {
      "cell_type": "markdown",
      "metadata": {
        "id": "vJ0M75d1GTkI"
      },
      "source": [
        "### Подготовка датасета\n",
        "Загрузите датасет movielens10m с [grouplens.org](https://grouplens.org/datasets/movielens/10m/) или [disk.yandex.ru](https://disk.yandex.ru/d/HIjLehGZEcCRig) и положите архив в папку `data`. Нас будет интересовать файл `ratings.dat`, в котором собраны оценки пользователями различных фильмов с сервиса movielens.org. Вытащим этот файл из архива. Как можно узнать из соответствующей [странички](http://files.grouplens.org/datasets/movielens/ml-10m-README.html#file_desc), этот файл имеет формат `UserID::MovieID::Rating::Timestamp`. Сразу позаботимся, чтобы id пользователей и фильмов начинались с нуля (в самом файле индексация с единицы)."
      ]
    },
    {
      "cell_type": "code",
      "execution_count": null,
      "metadata": {
        "id": "6ALFIBL2GTkJ",
        "scrolled": true
      },
      "outputs": [],
      "source": [
        "import zipfile\n",
        "user_ids = []\n",
        "movie_ids = []\n",
        "ratings = []\n",
        "with zipfile.ZipFile('/content/drive/MyDrive/data/ml-10m.zip') as archive:\n",
        "    with archive.open('ml-10M100K/ratings.dat') as f:\n",
        "        for l in f:\n",
        "            user, movie, rating, _ = l.split(b'::')\n",
        "            user_ids.append(int(user) - 1)\n",
        "            movie_ids.append(int(movie) - 1)\n",
        "            ratings.append(float(rating))"
      ]
    },
    {
      "cell_type": "code",
      "execution_count": null,
      "metadata": {
        "colab": {
          "base_uri": "https://localhost:8080/"
        },
        "id": "lZIjUg0qbxtj",
        "outputId": "80dc154b-dae2-4305-8ca7-d8dbed895b12"
      },
      "outputs": [
        {
          "name": "stdout",
          "output_type": "stream",
          "text": [
            "Mounted at /content/drive\n"
          ]
        }
      ],
      "source": [
        "from google.colab import drive\n",
        "drive.mount('/content/drive')"
      ]
    },
    {
      "cell_type": "markdown",
      "metadata": {
        "id": "FwlRKeriGTkJ"
      },
      "source": [
        "Составим матрицу рейтингов $A \\in \\mathbb R^{m \\times n}$, индексируемую номером пользователем и номером фильма.\n",
        "Для простоты мы будем делить отзывы только на положительные (`Rating >= 4` &mdash; $A_{i,j}=1$) и отрицательные (`Rating < 4` &mdash; $A_{i,j} = 0$), таким образом, матрица у нас получится состоящей только из нулей и единиц.\n",
        "Обратите внимание, что матрица будет разреженной, так как средний пользователь оценил относительно мало фильмов. Поэтому мы будем пользоваться библиотекой `scipy.sparse`. Хранить матрицу мы будем в формате хранения разреженных матриц [CSR](https://en.wikipedia.org/wiki/Sparse_matrix#Compressed_sparse_row_(CSR,_CRS_or_Yale_format)), который поддерживает матричное умножение на numpy массивы: ```A @ X ```."
      ]
    },
    {
      "cell_type": "code",
      "execution_count": null,
      "metadata": {
        "colab": {
          "base_uri": "https://localhost:8080/"
        },
        "id": "eFQAXNIFGTkJ",
        "outputId": "a0b2651c-6f58-42e9-aec7-4d5d82791d2b",
        "scrolled": true
      },
      "outputs": [
        {
          "name": "stdout",
          "output_type": "stream",
          "text": [
            "Shape: (71567, 65133)\n",
            "Ratio of nonzero elements: 0.0010738646228571796\n"
          ]
        }
      ],
      "source": [
        "from scipy.sparse import csr_matrix\n",
        "A = csr_matrix((np.array(ratings) >= 4, (user_ids, movie_ids)), dtype=np.float32)\n",
        "A.eliminate_zeros()\n",
        "print(\"Shape:\", A.shape)\n",
        "print(\"Ratio of nonzero elements:\", A.nnz / (A.shape[0] * A.shape[1]))"
      ]
    },
    {
      "cell_type": "markdown",
      "metadata": {
        "id": "odCs6tjeGTkK"
      },
      "source": [
        "Отделим некоторое количество пользователей для последующей проверки. Используем стандартное разбиение train/test 80/20."
      ]
    },
    {
      "cell_type": "code",
      "execution_count": null,
      "metadata": {
        "id": "UrN0pCEBGTkK"
      },
      "outputs": [],
      "source": [
        "n_users, n_movies = A.shape\n",
        "n_test = int(n_users * 0.2)\n",
        "n_train = n_users - n_test\n",
        "idx = np.arange(n_users)\n",
        "np.random.shuffle(idx)\n",
        "test_idx, train_idx = idx[:n_test], idx[n_test:]\n",
        "A_test, A_train = A[test_idx,:], A[train_idx,:]"
      ]
    },
    {
      "cell_type": "markdown",
      "metadata": {
        "id": "nH-aMFybGTkK"
      },
      "source": [
        "Далее в задаче мы будем строить рекомендации пользователям на основе малорангового приближения матрицы $A$ (матрицы $A_{train}$ в рамках обозначений выше).\n",
        "Обратим внимание, что из-за ограничений по памяти мы не можем сформировать матрицу $A$ в виде numpy массива, а значит теряем доступ к ```np.linalg.svd```. Поэтому мы будем реализовывать метод ALS, в котором требуется только умножение на матрицы $A$ и $A^\\top$, что поддерживается разреженными форматами хранения матриц (CSR, COO и тд).\n",
        "\n",
        "### a. (35 баллов) Вычисление вспомогательных функционалов\n",
        "\n",
        "  1. **(15 баллов)** Напомним, что в методе ALS решается задача минимизации функционала $f(U, V^\\top) = \\|A - UV^\\top\\|_F$ по всем $U \\in \\mathbb R^{m \\times r}$ и $V  \\in \\mathbb R^{n \\times r}$. Первым делом вам нужно будет написать функцию `als_functional` для вычисления оптимизируемого функционала $\\|A - UV^\\top\\|_F$ для заданных $A$, $U$, $V^\\top$. Заметьте, что прямое вычисление этой нормы &mdash; очень трудоёмкая задача, ведь разность будет плотной матрицей. Для того, чтобы эффективно вычислить норму разности, распишите $\\|A - UV^\\top\\|_F^2$ через скалярное произведение $\\langle X,Y \\rangle_F = \\mathrm{Tr}\\,(X^\\top Y)$, выполните алгебраические преобразования и покажите, как эффективно вычислить каждый член в полученном выражении. Для начала выведите необходимые формулы аналитически, а затем реализуйте их в коде. Ни на каком этапе вы не должны явно формировать плотные матрицы размеров `A.shape` (хотя numpy, скорее всего, и откажется аллоцировать 37 ГБ под такой массив).\n",
        "  \n",
        "  **Замечание**: не используйте циклы по ненулевым элементам разреженной матрицы $A$. Убедитесь, что в ваши формулы входит только умножение на матрицы $A$ или $A^\\top$, на которые можно умножать посредством @; либо умножения сложности $O(mr^2), O(nr^2)$. Также отметим, что норма матрицы $A$ уже дана, заново её вычислять не надо.  Везде считайте $r < m, n$."
      ]
    },
    {
      "cell_type": "markdown",
      "metadata": {
        "id": "8DK_a5qKtFeE"
      },
      "source": [
        "$||A - UV^T||_F^2 = \\langle A - UV^T,A - UV^T \\rangle_F = \\mathrm{Tr}\\,((A - UV^T)^\\top (A - UV^T)) = Tr((A^T - VU^T)(A - UV^T)) = Tr(A^TA - A^TUV^T - VU^TA - VU^TUVT) = Tr(A^TA) - 2Tr(A^TUV^T) + Tr(VU^TUV^T) = (A_{norm})^2 - 2Tr(A^TUV^T) + Tr(VU^TUV^T) =  (A_{norm})^2 - 2Tr(V^TAU) +||UV^T||_F^2$\n",
        "\n",
        "$Tr(V^TAU)$ - укладывается в $O(mr^2)$, так как умножаем матрицы $(r*n)(n*m)(m *r) = > (r*m)(m *r) = > (r*r)$\n",
        "\n",
        "Норму $||UV^T||_F$ удобно посчитать с использованием малоранговой арифметики как на семе:\n",
        "\n",
        "$UV^T = QRV^T$\n",
        "\n",
        "\n",
        "тогда: $||UV^T||_F^2 = ||QRV^T||_F^2 = Tr((QRV^T)^T(QRV^T)) = Tr(VR^TQ^TQRV^T) = Tr(VR^TRV^T) = ||RV^T||_F^2$ - так как у матрицы Q ортонормироованные столбцы (но не строки)\n",
        "\n",
        "Итог: укладываемся $O(mr^2 + r^2*n) <= O(max(m, n)r^2)$"
      ]
    },
    {
      "cell_type": "code",
      "execution_count": null,
      "metadata": {
        "id": "ujrKkJ7HtFeE"
      },
      "outputs": [],
      "source": [
        "def als_functional(A, A_norm, U, VT):\n",
        "    \"\"\"\n",
        "        Input\n",
        "            A: sparse 2D array (может быть использован scipy.sparse для эффективности)\n",
        "            A_norm: Frobenius norm of A\n",
        "            U, VT: 2D arrays such that U @ VT approximates A\n",
        "        Output\n",
        "            ||A - U VT||_F\n",
        "            vt = r*n\n",
        "            u = m*r\n",
        "            a = m*n\n",
        "\n",
        "    \"\"\"\n",
        "\n",
        "    VTA = VT @ A.T\n",
        "    a = np.trace(VTA @ U)\n",
        "\n",
        "    _, R = np.linalg.qr(U)\n",
        "\n",
        "    b = np.linalg.norm(R@VT)\n",
        "\n",
        "\n",
        "    diff_norm_squared = A_norm**2 - 2 * a + b\n",
        "\n",
        "    return np.sqrt(diff_norm_squared)\n",
        "\n"
      ]
    },
    {
      "cell_type": "markdown",
      "metadata": {
        "id": "tEQ_TfYC_Myv"
      },
      "source": [
        "**Замечание:** Если вы не сможете выполнить следующие два пункта, можете их пропустить. Они не являются обязательными для следующих заданий."
      ]
    },
    {
      "cell_type": "markdown",
      "metadata": {
        "id": "pynl_j3Q4EF5"
      },
      "source": [
        "  2. **(10 баллов)** *Расстоянием от подпространства* $L_1 \\subset \\mathbb{R}^m$ *до подпространства* $L_2 \\subset \\mathbb{R}^m$ будем называть число $\\|(I - P(L_1)) P(L_2)\\|_2$, где $P(L_i)$ &mdash; ортопроектор на $L_i$. Функция несимметричная, так что будьте осторожны с расстановкой аргументов. Опишите алгоритм вычисления расстояния от $\\mathrm{Im}(U_1)$ до $\\mathrm{Im}(U_2)$ для заданных матриц $U_1, U_2 \\in \\mathbb{R}^{m \\times r}$ с ортонормированными столбцами (т.е. $U_i^\\top U_i = I$). Алгоритм должен иметь сложность $O(mr^2)$. **Подсказка.** Воспользуйтесь техникой малоранговой арифметики, описанной на соответствующих лекции и семинаре."
      ]
    },
    {
      "cell_type": "markdown",
      "metadata": {
        "id": "IibP7Xl74Kp8"
      },
      "source": [
        "**YOUR WORDS GO HERE**\n",
        "\n",
        "\n",
        "$dist(Im(U_1), Im(U_2)) = ||(I - P(Im(U_1)))P(Im(U_2))||_2$\n",
        "\n",
        "$P(Im(U_1)) = U_1(U_1^*U_1)^{-1}U_1^* = U_1U^*_1 = U_1U_1^T$\n",
        "\n",
        "$P(Im(U_2)) = U_2(U_2^*U_2)^{-1}U_2^* = U_2U^*_2 = U_2U_2^T$\n",
        "\n",
        "тогда  $dist(Im(U_1), Im(U_2)) = ||(I -  U_1U_1^T) U_2U_2^T||_2$\n",
        "$ = ||(U_2 - U_2U_1U_1^T)U_2^T||_2$\n",
        "\n",
        "к матрице $U_2 - U_2U_1U_1^T$ применим qr - разложение:\n",
        "\n",
        "$U_2 - U_2U_1U_1^T = M = QR$\n",
        "\n",
        "Имеем:\n",
        "\n",
        "$||MU_2^T||_2 = ||QRU^2T||_2$\n",
        "\n",
        "Применим техникуу ммалорановой апроксимации и разложим представим R в вид ее сингулярного разложения ($R = uΣv^T$):\n",
        "\n",
        "$||QuΣv^TU_2^T||_2 = ||(Qu)Σ (v^TU_2^T)||_2 = ||(Qu)Σ(U_2v)^T||_2$\n",
        "\n",
        "Заметим следующие свойства:\n",
        "\n",
        "$(Qu)^* \\cdot (Qu) = u^*Q^*Qu = u^*u = I$,так как $Q$ - матрица с ортогон столбцами, а $u$ - унитарная матрица (легко показать, что при перестановке множителй мы бы получили такой же результат).\n",
        "\n",
        "$(U_2v)^T(U_2v) = v^TU_2^TU_2v = v^Tv = I$, так как $U_2$ имеет по условию отогональные столбцы, а $v$- унитарная матрица.\n",
        "\n",
        "Вывод: из унитарной инариантности второй нормы:\n",
        "\n",
        "$||(Qu)Σ(U_2v)^T||_2 = ||Σ||_2 = σ_1$"
      ]
    },
    {
      "cell_type": "markdown",
      "metadata": {
        "id": "D3FlQJMG4NUo"
      },
      "source": [
        "  3. **(10 баллов)** Напишите функцию `dist_between_subspaces`, принимающую на вход матрицы $U_1, U_2 \\in \\mathbb{R}^{m\\times r}$ с ортонормированными столбцами, и возвращающую расстояние от $\\mathrm{Im}(U_1)$ до $\\mathrm{Im}(U_2)$. Сложность алгоритма должна быть $O(mr^2)$."
      ]
    },
    {
      "cell_type": "code",
      "execution_count": null,
      "metadata": {
        "id": "H-5vadb0-pco"
      },
      "outputs": [],
      "source": [
        "def dist_between_subspaces(U1, U2):\n",
        "    \"\"\"\n",
        "        Input\n",
        "            U1, U2: matrices with orthonormal columns\n",
        "        Output\n",
        "            Distance from Im(U1) to Im(U2)\n",
        "\n",
        "    \"\"\"\n",
        "\n",
        "\n",
        "    M = U1.T @ U2\n",
        "    M = U1 @ M\n",
        "    M = U2 - M\n",
        "    q, r = np.linalg.qr(M)\n",
        "    u, s, vt = np.linalg.svd(r)\n",
        "\n",
        "    dist = s[0]\n",
        "\n",
        "    return dist"
      ]
    },
    {
      "cell_type": "markdown",
      "metadata": {
        "id": "LLxAu8r9GTkM"
      },
      "source": [
        "### b. (30 баллов) Метод ALS\n",
        "Реализуйте метод ALS (alternating least squares) с ортогонализацией (см. лекции).\n",
        "\n",
        "Вам будет необходимо вернуть две матрицы: $U$ и $V^\\top$, образующие скелетное разложение результирующего приближения; где $U$ имеет ортонормированные столбцы. Также нужно вернуть 3 списка:\n",
        "\n",
        "\n",
        "*   Список значений функционала $f(U_k, V^\\top_k) = \\|A - U_k V^\\top_k\\|_F$\n",
        "\n",
        "*   Список изменений значений функционала $\\delta_k = f(U_{k-1}, V^\\top_{k-1}) - f(U_k, V^\\top_k)$\n",
        "\n",
        "*   Список растояний между пространствами $\\|(I - P(U_{k-1}))P(U_{k})\\|_2$\n",
        "\n",
        "В качестве критерия остановки будем использовать величину $\\delta_k$. При значении $\\delta_k \\le tolerance$ алгоритм должен остановиться. При указании `debug=True` печатайте номер текущей итерации и последнюю $\\delta_k$, а также любую дополнительную интересную вам информацию.\n",
        "\n",
        "Используйте реализованные выше функции. Для вычисления фробениусовой нормы разреженной матрицы используйте `norm` из `scipy.sparse.linalg`.\n",
        "\n",
        "**Замечание:** Если вы не реализовали dist_between_subspaces, то вместо третьего списка возращайте None."
      ]
    },
    {
      "cell_type": "code",
      "execution_count": null,
      "metadata": {
        "id": "OSt2tZH9GTkM"
      },
      "outputs": [],
      "source": [
        "from scipy.sparse.linalg import norm\n",
        "\n",
        "def ALS(A, rank, tolerance=1e-2, debug=False):\n",
        "    \"\"\"\n",
        "        Input\n",
        "            A: 2D m x n numpy array\n",
        "            rank: required rank of the approximation\n",
        "            tolerance: stop when delta_k is less or equal to it\n",
        "            debug: print debug information on each iteration\n",
        "\n",
        "        Output\n",
        "            U, VT: m x rank, rank x n numpy arrays forming skeleton decomposition;\n",
        "                   columns of matrix U are orthonormal\n",
        "            fs: list of f(U_k, VT_k)\n",
        "            deltas: list of f(U_{k-1}, VT_{k-1}) - f(U_k, VT_k)\n",
        "            dists: list of distances from Im(U_{k-1}) and Im(U_k)\n",
        "    \"\"\"\n",
        "    m, n = A.shape\n",
        "    no = scipy.sparse.linalg.norm(A)\n",
        "\n",
        "    Uk = np.random.rand(m, rank)\n",
        "    Vk = np.random.rand(n, rank)\n",
        "\n",
        "    fs = []\n",
        "    deltas = []\n",
        "    dists = []\n",
        "    delta = no\n",
        "\n",
        "\n",
        "    Uk = A @ Vk\n",
        "    Uk, _ = np.linalg.qr(Uk)\n",
        "\n",
        "    while delta > tolerance:\n",
        "        Vk = A.T @ Uk\n",
        "\n",
        "        f = als_functional(A, no, Uk, Vk.T)\n",
        "        fs.append(f)\n",
        "\n",
        "\n",
        "\n",
        "        Vk, _ = np.linalg.qr(Vk)\n",
        "        Uf = A @ Vk\n",
        "        Q_u, _ = np.linalg.qr(Uf)\n",
        "\n",
        "        dists.append(dist_between_subspaces(Uk, Uf))\n",
        "\n",
        "        if len(fs) > 1:\n",
        "          deltas.append(fs[-2] - fs[-1])\n",
        "          delta = deltas[-1]\n",
        "\n",
        "        Uk = Q_u\n",
        "\n",
        "        if debug:\n",
        "          print(f\"Iteration {len(fs)-1}: delta = {delta}\")\n",
        "\n",
        "        if delta <= tolerance:\n",
        "          Vk = Uk.T @ A\n",
        "\n",
        "    return Uk, Vk, fs, deltas, dists\n"
      ]
    },
    {
      "cell_type": "markdown",
      "metadata": {
        "id": "HYKGYPkGGTkM"
      },
      "source": [
        "Запустим метод на матрице `A_train` и посмотрим на убывание функционала от номера итерации."
      ]
    },
    {
      "cell_type": "code",
      "execution_count": null,
      "metadata": {
        "colab": {
          "base_uri": "https://localhost:8080/",
          "height": 683
        },
        "id": "whzjLogltFeI",
        "outputId": "ea3cfd9d-94e8-4b26-c562-4d537545998a"
      },
      "outputs": [
        {
          "name": "stdout",
          "output_type": "stream",
          "text": [
            "Iteration 0: delta = 2004.2220458984375\n",
            "Iteration 1: delta = 314.390655300871\n",
            "Iteration 2: delta = 43.21462606818932\n",
            "Iteration 3: delta = 12.435969301379146\n",
            "Iteration 4: delta = 4.9669922953419245\n",
            "Iteration 5: delta = 2.2693166817859947\n",
            "Iteration 6: delta = 1.136644086045635\n",
            "Iteration 7: delta = 0.627091199060942\n",
            "Iteration 8: delta = 0.3780258566264365\n",
            "Iteration 9: delta = 0.24537506350316107\n",
            "Iteration 10: delta = 0.16923737329125288\n",
            "Iteration 11: delta = 0.12280075077501351\n",
            "Iteration 12: delta = 0.0930932262931492\n"
          ]
        },
        {
          "data": {
            "text/plain": [
              "[]"
            ]
          },
          "execution_count": 11,
          "metadata": {},
          "output_type": "execute_result"
        },
        {
          "data": {
            "image/png": "[encoded data removed]",
            "text/plain": [
              "<Figure size 1200x500 with 2 Axes>"
            ]
          },
          "metadata": {},
          "output_type": "display_data"
        }
      ],
      "source": [
        "rank = 30\n",
        "U_als, VT_als, fs, deltas, dists = ALS(A_train, rank, 0.1, debug=True)\n",
        "fig, axs = plt.subplots(figsize=(12, 5), ncols=2)\n",
        "\n",
        "axs[0].plot(fs)\n",
        "axs[1].plot(deltas)\n",
        "axs[1].semilogy()"
      ]
    },
    {
      "cell_type": "code",
      "execution_count": null,
      "metadata": {
        "colab": {
          "base_uri": "https://localhost:8080/",
          "height": 447
        },
        "id": "9MDLeO4cFjCV",
        "outputId": "bc3c07b7-1e16-4a94-e08f-4e56b66801bb"
      },
      "outputs": [
        {
          "data": {
            "text/plain": [
              "[<matplotlib.lines.Line2D at 0x7cf226d85480>]"
            ]
          },
          "execution_count": 12,
          "metadata": {},
          "output_type": "execute_result"
        },
        {
          "data": {
            "image/png": "[encoded data removed]",
            "text/plain": [
              "<Figure size 640x480 with 1 Axes>"
            ]
          },
          "metadata": {},
          "output_type": "display_data"
        }
      ],
      "source": [
        "# опционально\n",
        "\n",
        "plt.plot(dists)"
      ]
    },
    {
      "cell_type": "markdown",
      "metadata": {
        "id": "UA1WkWSIGTkN"
      },
      "source": [
        "### c. (10 баллов) Сравнение с рандомизированным SVD и разреженным SVD\n",
        "\n",
        "Примените рандомизированное SVD из sklearn, а также SVD из scipy, поддерживающее разреженные матрицы (используйте тот же ранг 30, что и для ALS). Сравните все три результата по значению функционала."
      ]
    },
    {
      "cell_type": "code",
      "execution_count": null,
      "metadata": {
        "colab": {
          "base_uri": "https://localhost:8080/"
        },
        "id": "8o78zTJYtFeJ",
        "outputId": "dd242343-fbd3-46a6-adfd-14b829751d3d"
      },
      "outputs": [
        {
          "name": "stdout",
          "output_type": "stream",
          "text": [
            "Functional value for sklearn SVD: 1167.5143098413243\n",
            "Functional value for scipy SVD: 1167.226871036398\n",
            "Functional value for ALS: 1168.5476907222048\n"
          ]
        }
      ],
      "source": [
        "from scipy.sparse.linalg import svds, norm as sparse_norm\n",
        "from sklearn.utils.extmath import randomized_svd\n",
        "\n",
        "\n",
        "A_norm = norm(A_train)\n",
        "\n",
        "\n",
        "def calculate_functional(A_norm, A, U, Sigma, Vt):\n",
        "    M = Sigma @ Vt\n",
        "    return als_functional(A, A_norm, U, M)\n",
        "\n",
        "\n",
        "\n",
        "\n",
        "U_sklearn, Sigma_sklearn, V_sklearn = randomized_svd(A_train, n_components=30)\n",
        "\n",
        "U_scipy, Sigma_scipy, Vt_scipy = svds(A_train, k=30)\n",
        "\n",
        "\n",
        "functional_sklearn = calculate_functional(A_norm, A_train, U_sklearn, np.diag(Sigma_sklearn), V_sklearn)\n",
        "\n",
        "functional_scipy = calculate_functional(A_norm, A_train, U_scipy, np.diag(Sigma_scipy), Vt_scipy)\n",
        "\n",
        "functional_als = als_functional(A_train, A_norm, U_als, VT_als)\n",
        "\n",
        "\n",
        "print(\"Functional value for sklearn SVD:\", functional_sklearn)\n",
        "print(\"Functional value for scipy SVD:\", functional_scipy)\n",
        "print(\"Functional value for ALS:\", functional_als)\n"
      ]
    },
    {
      "cell_type": "markdown",
      "metadata": {
        "id": "XO0maG2qNKvP"
      },
      "source": [
        "Получили, что приближение при помощи реализованной функции ALS не хуже, чем приближение библиотечными функциями сингулярного разложения заданного ранга:)"
      ]
    },
    {
      "cell_type": "markdown",
      "metadata": {
        "id": "bmA27YeGGTkN"
      },
      "source": [
        "### d. (25 баллов) Построение рекомендаций\n",
        "  1. **(10 баллов)** Научимся рекомендовать пользователям из тестовой группы фильмы на основе части их оценок. Напишем функцию `recommend`, которая будет принимать матрицу $V$ из нашей модели, матрицу `(user_id, movie_id) -> binary rating` (то есть того же формата, что и наша основная матрица `A`), а также число `pred_am` &mdash; количество фильмов, которые мы хотим порекомендовать. Возвращать функция будет top-`pred_am` рекомендаций, то есть `pred_am` фильмов, которые могут пользователю понравиться, в порядке убывания предсказанной привлекательности.\n",
        "\n",
        "  Чтобы построить рекомендацию, необходимо ортогонально спроецировать вектор, соответствующий новому пользователю (про которого мы знаем часть оценок), на пространство $L$, образуемое строками матрицы $V^\\top$. Иными словами, мы должны взять ближайший вектор из $L$. Он будет содержать предсказанные нашей моделью рейтинги. Дальше дело техники :) Но не забудьте, что `score_mat` содержит векторы, соответствующие не одному пользователю, а батчу из `batch_size` пользователей. Хотя и (слава numpy) код остаётся почти дословно такой же. **Подсказка:** используйте функцию `np.argsort`."
      ]
    },
    {
      "cell_type": "code",
      "execution_count": null,
      "metadata": {
        "id": "_WZrWySAGTkO"
      },
      "outputs": [],
      "source": [
        "from scipy.sparse import issparse\n",
        "def recommend(score_mat, pred_am, V):\n",
        "    \"\"\"\n",
        "        Input\n",
        "            score_mat: sparse batch_size x n_movies array\n",
        "            pred_am: requested number of recommendations\n",
        "            V: 2D numpy array\n",
        "\n",
        "        Output\n",
        "            recs: batch_size x pred_am array of movies to recommend, with descending predicted rating\n",
        "    \"\"\"\n",
        "    if issparse(score_mat):\n",
        "        score_mat = score_mat.toarray()\n",
        "\n",
        "    # по формуле ортопроектора A(A^*A)^{-1}A^T, но у матрицы V ортонормированные столбцы\n",
        "    predicted_scores = score_mat @ V @ V.T\n",
        "\n",
        "    recs_indices = np.argsort(predicted_scores, axis=1)[:, -pred_am:]\n",
        "\n",
        "    recs_indices = np.fliplr(recs_indices)\n",
        "\n",
        "    return recs_indices\n"
      ]
    },
    {
      "cell_type": "markdown",
      "metadata": {
        "id": "FgiVdYYAGTkO"
      },
      "source": [
        "Для проверки нашей модели для каждого пользователя из тестовой выборки оценим так называемый **hit rate**. Для этого выбросим одну из его оценок, вызовем функцию `recommend` и посмотрим, попал ли выкинутый фильм в подборку. Если попал &mdash; это hit, иначе не hit. Для того, чтобы эффективно проделать этот эксперимент на всех тестовых данных, сделаем следующее: разобьём тестовую матрицу на батчи по 500 пользователей и будем предсказывать сразу для целого батча. Вычислим вектор размера `n_test`, где для каждого пользователя указано, на каком месте в рекомендованной подборке оказался скрытый фильм (или число `n_recs`, если скрытого фильма не нашлось среди top-n  рекомендаций)."
      ]
    },
    {
      "cell_type": "code",
      "execution_count": null,
      "metadata": {
        "id": "6tOq0553GTkO"
      },
      "outputs": [],
      "source": [
        "from scipy.sparse import find\n",
        "\n",
        "def evaluate_model(A_test, pred_am, V, batch_size=500):\n",
        "    \"\"\"\n",
        "        Input\n",
        "            A_test: sparse n_test x n_movies array corresponding to new users\n",
        "            pred_am: requested number of recommendations\n",
        "            V: 2D numpy array representing the rating model\n",
        "            batch_size: number of users to build recommendations for in a single call to recommend\n",
        "\n",
        "        Output\n",
        "            hit_idx: list of n_test ints: place of secret movie\n",
        "                     in top-pred_am recommendations (or pred_am if it is missing)\n",
        "    \"\"\"\n",
        "    secrets = []\n",
        "    nonempty_users = []\n",
        "    A_test = A_test.copy()\n",
        "    for user in range(A_test.shape[0]):\n",
        "        _, good, _ = find(A_test[user,:])\n",
        "        if len(good) == 0:\n",
        "            continue\n",
        "        nonempty_users.append(user)\n",
        "        secret = np.random.choice(good, 1)[0]\n",
        "        A_test[user, secret] = 0\n",
        "        secrets.append(secret)\n",
        "    hit_idx = []\n",
        "    for i in range(0, len(nonempty_users), batch_size):\n",
        "        # Build recomendations for a batch.\n",
        "        recommendations = recommend(A_test[nonempty_users[i:i + batch_size], :], pred_am + 1, V)\n",
        "        # Place secret in the last column so that the following .argmax finds it.\n",
        "        recommendations[:,-1] = secrets[i: i + batch_size]\n",
        "        # Find secret among the recommendations and place its index into batch_hit_idx.\n",
        "        batch_hit_idx = (recommendations == np.array([secrets[i:i + batch_size]]).T).argmax(1)\n",
        "        hit_idx += batch_hit_idx.tolist()\n",
        "    return hit_idx"
      ]
    },
    {
      "cell_type": "markdown",
      "metadata": {
        "id": "g2NZjgRdGTkP"
      },
      "source": [
        "  2. **(15 баллов)** Научимся вычислять hit rate для данной модели и заданного количества top-n рекомендаций. Для этого напишем функцию `get_hit_rates`, которая будет принимать $V$ из нашей модели, вектора оценок для новых пользователей `A_test` и список натуральных чисел `pred_ams`. Для каждого из этих чисел необходимо посчитать средний hit rate по всем пользователям из `A_test`, то есть, например, для `pred_ams == [5, 10, 20]` нужно вернуть список средних хитрейтов для top-5, top-10 и top-20. **Обратите внимание:** вызвать функцию `evaluate_model` нужно только один раз."
      ]
    },
    {
      "cell_type": "code",
      "execution_count": null,
      "metadata": {
        "id": "jUW5e6IgGTkP"
      },
      "outputs": [],
      "source": [
        "def get_hit_rates(A_test, pred_ams, V):\n",
        "    \"\"\"\n",
        "        Input\n",
        "            A_test: sparse n_test x n_movies array corresponding to new users\n",
        "            pred_ams: list of ints: number of top recomendations to evaluate hit rate for\n",
        "            V: 2D numpy array representing the rating model\n",
        "        Output\n",
        "            hit_rates: list of float: hit rate for each element of n_recs\n",
        "\n",
        "    \"\"\"\n",
        "    hit_rates = []\n",
        "    hit_idx = evaluate_model(A_test, max(pred_ams), V)\n",
        "    num_users = len(hit_idx)\n",
        "    for pred_am in pred_ams:\n",
        "        hit_rate = np.sum([1 if idx < pred_am else 0 for idx in hit_idx])\n",
        "        hit_rates.append(hit_rate/num_users)\n",
        "\n",
        "    return hit_rates"
      ]
    },
    {
      "cell_type": "markdown",
      "metadata": {
        "id": "PRdKpRy2GTkP"
      },
      "source": [
        "Проверьте себя: вычислите хитрейт на top-10 рекомендаций для Sparse SVD ранга 30. Чтобы вычисления рекомендаций были побыстрее, используйте не всю матрицу `A_test`, а, например, первые 1000 строк. Хитрейт должен получится в районе 12-15%. Самое время подебажить своё решение, если числа сильно расходятся."
      ]
    },
    {
      "cell_type": "code",
      "execution_count": null,
      "metadata": {
        "colab": {
          "base_uri": "https://localhost:8080/"
        },
        "id": "ZsNy1KK1G7HD",
        "outputId": "36628745-943e-4958-8add-fae7b5db376f"
      },
      "outputs": [
        {
          "name": "stdout",
          "output_type": "stream",
          "text": [
            "Hit Rate for top-10 recommendations: 13.03%\n"
          ]
        }
      ],
      "source": [
        "A_test_subset = A_test[:1000].copy()\n",
        "u, s, v = svds(A_test_subset, k = 30)\n",
        "hit_rates = get_hit_rates(A_test_subset, [10], v.T)\n",
        "\n",
        "print(f\"Hit Rate for top-10 recommendations: {hit_rates[0] * 100:.2f}%\")"
      ]
    },
    {
      "cell_type": "markdown",
      "metadata": {
        "id": "S0qfki6qGTkQ"
      },
      "source": [
        "Теперь можно построить графики зависимости hit rate от количества рекомендаций, а также от ранга модели. Сравним результаты, которые дают три алгоритма: ALS, Sparse SVD и рандомизированный SVD."
      ]
    },
    {
      "cell_type": "code",
      "execution_count": null,
      "metadata": {
        "colab": {
          "base_uri": "https://localhost:8080/",
          "height": 384
        },
        "id": "nEL4vVfyGTkQ",
        "outputId": "e644ecf0-12a7-4103-a043-5be46130a9f3"
      },
      "outputs": [
        {
          "data": {
            "image/png": "[encoded data removed]",
            "text/plain": [
              "<Figure size 2000x400 with 3 Axes>"
            ]
          },
          "metadata": {},
          "output_type": "display_data"
        }
      ],
      "source": [
        "from scipy.sparse.linalg import svds\n",
        "\n",
        "pred_ams = list(range(5, 101, 5))\n",
        "\n",
        "plt.rcParams.update({'font.size': 14})\n",
        "_, (ax_svd, ax_als, ax_rand) = plt.subplots(1,3,figsize=(20, 4),sharey=True)\n",
        "\n",
        "ax_svd.set_title(\"SVD\")\n",
        "ax_svd.set_ylabel(\"Hit rate\")\n",
        "ax_als.set_title(\"ALS\")\n",
        "ax_rand.set_title(\"Rand SVD\")\n",
        "for rank in [5, 25, 50]:\n",
        "    _, _, VT_svd = svds(A_train, k=rank)\n",
        "    _, VT_als, _, _, _ = ALS(A_train, rank)\n",
        "    _, _, VT_rand = randomized_svd(A_train, rank)\n",
        "    for VT, ax in zip([VT_svd, VT_als, VT_rand], [ax_svd, ax_als, ax_rand]):\n",
        "        ax.set_xlabel(\"Number of recomendations\")\n",
        "        hit_rates = get_hit_rates(A_test[:1000,:], pred_ams, VT.T)\n",
        "        line, = ax.plot(pred_ams, hit_rates)\n",
        "        line.set_label('rank = {}'.format(rank))\n",
        "        ax.legend()"
      ]
    },
    {
      "cell_type": "markdown",
      "metadata": {
        "id": "P5syrgrHggLt"
      },
      "source": [
        "**YOUR WORDS GO HERE**\n",
        "\n",
        "\n",
        "Заметим, что наилучше значение хитрейта достигается при ранге 25 (испытания показали, что его может быть достаточно, чтобы показать результат, больший, чем при использовании большего ранг), при ранге 50 наблюдается эффект переобучения модели, а ранг 5 достаточно мал, чтобы выдавать \"хорошую\" рекомендацию.\n",
        "\n",
        "Более того, в средем значения хитрейта, выдавыемые сингулярным разложением выше в сравнении с подходом использования ALS"
      ]
    },
    {
      "cell_type": "markdown",
      "metadata": {
        "id": "4Aw-QdjtGTkQ"
      },
      "source": [
        "Какой ранг приближения оказался оптимальным для нашей модели в случае каждого алгоритма?"
      ]
    },
    {
      "cell_type": "markdown",
      "metadata": {
        "id": "uKW0NkY2ci52"
      },
      "source": [
        "## Бонус. Higher-order SVD (100 баллов)"
      ]
    },
    {
      "cell_type": "markdown",
      "metadata": {
        "id": "sueW4YISk5Ga"
      },
      "source": [
        "**В бонусе разрешается использовать циклы только по размерности.**"
      ]
    },
    {
      "cell_type": "markdown",
      "metadata": {
        "id": "MlWRcHRfGTkQ"
      },
      "source": [
        "1. (**20 баллов**) Напишите функцию ```tuck2full(G, Us)```, возвращающую полный тензор размера $n_1\\times n_2 \\times \\ldots \\times n_d$ по его разложению Таккера. Предусмотрите, чтобы функция работала и в случае, если в матрицах $U_1,U_2, \\ldots, U_d$ строк меньше, чем столбцов. Вместо циклов используйте функцию ```np.einsum```."
      ]
    },
    {
      "cell_type": "code",
      "execution_count": null,
      "metadata": {
        "id": "w-Oq1V5WGTkR"
      },
      "outputs": [],
      "source": [
        "def tuck2full(G, Us):\n",
        "    \"\"\"\n",
        "        Input\n",
        "            G: d-dimensional numpy array - Tucker core of size (r1, r2, ..., rd)\n",
        "            Us: tuple of 2D numpy arrays - Tucker factors of size (n1, r1), ..., (nd, rd)\n",
        "\n",
        "        Output\n",
        "            A: d-dimensional numpy array of the size (n1, n2, ..., nd)\n",
        "    \"\"\"\n",
        "    # TO BE FILLED\n",
        "    raise NotImplementedError()"
      ]
    },
    {
      "cell_type": "markdown",
      "metadata": {
        "id": "_fBi08IeGTkR"
      },
      "source": [
        "2. (**35 баллов**) Реализуйте higher-order SVD алгоритм для нахождения разложения Таккера данного $d$-мерного массива $A\\in\\mathbb{R}^{n_1\\times \\ldots \\times n_d}$. Алгоритм должен находить малоранговое приближение $A$ с относительной точностью не хуже $\\varepsilon$ во Фробениусовой норме. Функция должна вернуть ядро и факторы Таккера у приближающего тензора. Для получения ядра Таккера будет удобно воспользоваться функцией ```tuck2full```."
      ]
    },
    {
      "cell_type": "code",
      "execution_count": null,
      "metadata": {
        "id": "5bmOtAq8GTkR"
      },
      "outputs": [],
      "source": [
        "def hosvd(A, eps):\n",
        "    \"\"\"\n",
        "        Input\n",
        "            A: 3D numpy array\n",
        "            eps: accuracy of Tucker approximation\n",
        "\n",
        "        Output\n",
        "            G: d-dimensional numpy array - Tucker core of size (r1, r2, ..., rd)\n",
        "            Us: tuple of 2D numpy arrays - Tucker factors of size (n1, r1), ..., (nd, rd)\n",
        "    \"\"\"\n",
        "    # TO BE FILLED\n",
        "    raise NotImplementedError()"
      ]
    },
    {
      "cell_type": "markdown",
      "metadata": {
        "id": "KU-1RaGcGTkR"
      },
      "source": [
        "3. (**5 баллов**) Примените функцию ```hosvd``` к тензору размера $25 \\times 50 \\times 75 \\times 100$ с элементами\n",
        "$$\n",
        "    a_{ijkl} = \\frac{1}{i + j + k + l + 1}, \\quad i,j,k,l=0,1,...\n",
        "$$\n",
        "для малорангового приближения с точностью $10^{-6}$. Массив $A$ соберите с помощью функции ```np.meshgrid```. Напечатайте получившиеся ранги и относительную ошибку полученного малорангового приближения (для этого используйте функцию ```tuck2full```)."
      ]
    },
    {
      "cell_type": "code",
      "execution_count": null,
      "metadata": {
        "id": "Op7t7XOpGTkR"
      },
      "outputs": [],
      "source": [
        "# TO BE FILLED"
      ]
    },
    {
      "cell_type": "markdown",
      "metadata": {
        "id": "mEYomrX1i0gC"
      },
      "source": [
        "4. (**15 баллов**) Докажите, что норма Фробениуса приближения HOSVD $A'$ совпадает с её ядром Таккера $G'$:\n",
        "\n",
        "$$\n",
        "  \\|A'\\|_F = \\|G'\\|_F\n",
        "$$"
      ]
    },
    {
      "cell_type": "markdown",
      "metadata": {
        "id": "gJ7oLmRvjRis"
      },
      "source": [
        "**YOUR WORDS GO HERE**"
      ]
    },
    {
      "cell_type": "markdown",
      "metadata": {
        "id": "bChF9TCnkhxc"
      },
      "source": [
        "5. (**25 баллов**) Для заданного таккеровского разложения напишите функцию вычисления его нормы. Примените ее к разложению тензора размера 10000 x 10000 x 10000 со случайными Таккеровскими факторами и ядром мультилинейного ранга (10, 10, 10)."
      ]
    },
    {
      "cell_type": "code",
      "execution_count": null,
      "metadata": {
        "id": "XtAEo92Tllxz"
      },
      "outputs": [],
      "source": [
        "def tuck_norm(G, Us):\n",
        "    \"\"\"\n",
        "        Input\n",
        "            G: d-dimensional numpy array - Tucker core of size (r1, r2, ..., rd)\n",
        "            Us: tuple of 2D numpy arrays - Tucker factors of size (n1, r1), ..., (nd, rd)\n",
        "\n",
        "        Output\n",
        "            norm: Frobenius norm of A = [G; U1 ... Ud]\n",
        "    \"\"\"\n",
        "    # TO BE FILLED\n",
        "    raise NotImplementedError()"
      ]
    }
  ],
  "metadata": {
    "colab": {
      "provenance": []
    },
    "kernelspec": {
      "display_name": "Python 3.10.13 ('base')",
      "language": "python",
      "name": "python3"
    },
    "language_info": {
      "codemirror_mode": {
        "name": "ipython",
        "version": 3
      },
      "file_extension": ".py",
      "mimetype": "text/x-python",
      "name": "python",
      "nbconvert_exporter": "python",
      "pygments_lexer": "ipython3",
      "version": "3.10.13"
    },
    "vscode": {
      "interpreter": {
        "hash": "86baae392681979cf0853f5207fa8fc2ca3cdb90bb0e920399fb5918103b1c0a"
      }
    }
  },
  "nbformat": 4,
  "nbformat_minor": 0
}
